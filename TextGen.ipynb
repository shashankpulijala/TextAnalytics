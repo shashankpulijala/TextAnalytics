{
 "cells": [
  {
   "cell_type": "code",
   "execution_count": 11,
   "metadata": {},
   "outputs": [],
   "source": [
    "from keras.preprocessing.sequence import pad_sequences\n",
    "from keras.layers import Embedding, LSTM, Dense\n",
    "from keras.preprocessing.text import Tokenizer\n",
    "from keras.callbacks import EarlyStopping\n",
    "from keras.models import Sequential\n",
    "import keras.utils as ku \n",
    "import numpy as np\n",
    "from keras.layers import Embedding, LSTM, Dense, Dropout\n"
   ]
  },
  {
   "cell_type": "code",
   "execution_count": 12,
   "metadata": {},
   "outputs": [],
   "source": [
    "data = \"\"\"The cat and her kittens\n",
    "They put on their mittens,\n",
    "To eat a Christmas pie.\n",
    "The poor little kittens\n",
    "They lost their mittens,\n",
    "And then they began to cry.\n",
    "O mother dear, we sadly fear\n",
    "We cannot go to-day,\n",
    "For we have lost our mittens.\"\n",
    "\"If it be so, ye shall not go,\n",
    "For ye are naughty kittens.\"\"\""
   ]
  },
  {
   "cell_type": "code",
   "execution_count": 13,
   "metadata": {},
   "outputs": [
    {
     "data": {
      "text/plain": [
       "'tokenizer = Tokenizer(char_level=True)\\ncorpus = data.lower().split(\"\\n\")\\ntokenizer.fit_on_texts(corpus)\\nprint(tokenizer.word_index)\\ntotal_words = len(tokenizer.word_index) + 1\\ninput_sequences = []\\nfor line in corpus :\\n    token_list = tokenizer.texts_to_sequences([line])[0]\\n    #print(token_list)\\n    for i in range(1, len(token_list)) :\\n        n_gram_sequence = token_list[:i+1]\\n        input_sequences.append(n_gram_sequence) \\n#print(input_sequences)\\nmax_len = max([len(x) for x in input_sequences])\\ninput_sequences = np.array(pad_sequences(input_sequences, maxlen=max_len, padding=\\'pre\\'))\\npredictors, label = input_sequences[:,:-1],input_sequences[:,-1] # predictors all rows and in each row leave the last. label- all rows with last one in each row\\nlabel = ku.to_categorical(label, num_classes=total_words)'"
      ]
     },
     "execution_count": 13,
     "metadata": {},
     "output_type": "execute_result"
    }
   ],
   "source": [
    "\"\"\"tokenizer = Tokenizer(char_level=True)\n",
    "corpus = data.lower().split(\"\\n\")\n",
    "tokenizer.fit_on_texts(corpus)\n",
    "print(tokenizer.word_index)\n",
    "total_words = len(tokenizer.word_index) + 1\n",
    "input_sequences = []\n",
    "for line in corpus :\n",
    "    token_list = tokenizer.texts_to_sequences([line])[0]\n",
    "    #print(token_list)\n",
    "    for i in range(1, len(token_list)) :\n",
    "        n_gram_sequence = token_list[:i+1]\n",
    "        input_sequences.append(n_gram_sequence) \n",
    "#print(input_sequences)\n",
    "max_len = max([len(x) for x in input_sequences])\n",
    "input_sequences = np.array(pad_sequences(input_sequences, maxlen=max_len, padding='pre'))\n",
    "predictors, label = input_sequences[:,:-1],input_sequences[:,-1] # predictors all rows and in each row leave the last. label- all rows with last one in each row\n",
    "label = ku.to_categorical(label, num_classes=total_words)\"\"\""
   ]
  },
  {
   "cell_type": "code",
   "execution_count": 14,
   "metadata": {},
   "outputs": [
    {
     "data": {
      "text/plain": [
       "8"
      ]
     },
     "execution_count": 14,
     "metadata": {},
     "output_type": "execute_result"
    }
   ],
   "source": [
    "max_len"
   ]
  },
  {
   "cell_type": "code",
   "execution_count": 15,
   "metadata": {},
   "outputs": [
    {
     "ename": "NameError",
     "evalue": "name 'y' is not defined",
     "output_type": "error",
     "traceback": [
      "\u001b[1;31m---------------------------------------------------------------------------\u001b[0m",
      "\u001b[1;31mNameError\u001b[0m                                 Traceback (most recent call last)",
      "\u001b[1;32m<ipython-input-15-774071909c5c>\u001b[0m in \u001b[0;36m<module>\u001b[1;34m()\u001b[0m\n\u001b[1;32m----> 1\u001b[1;33m \u001b[0mlen\u001b[0m\u001b[1;33m(\u001b[0m\u001b[1;33m{\u001b[0m\u001b[1;34m'x'\u001b[0m\u001b[1;33m:\u001b[0m\u001b[1;36m2\u001b[0m\u001b[1;33m,\u001b[0m \u001b[0my\u001b[0m\u001b[1;33m:\u001b[0m\u001b[1;36m3\u001b[0m\u001b[1;33m}\u001b[0m\u001b[1;33m)\u001b[0m\u001b[1;33m\u001b[0m\u001b[0m\n\u001b[0m",
      "\u001b[1;31mNameError\u001b[0m: name 'y' is not defined"
     ]
    }
   ],
   "source": [
    "len({'x':2, y:3})"
   ]
  },
  {
   "cell_type": "code",
   "execution_count": 16,
   "metadata": {},
   "outputs": [],
   "source": [
    "#Prepare the data\n",
    "tokenizer = Tokenizer()\n",
    "def dataset_preparation(data):\n",
    "    \"\"\"\n",
    "    This function is to prepare input data to language model. \n",
    "    \n",
    "    Parameters :\n",
    "    data : 'text ie str format'\n",
    "    \n",
    "    Returns : \n",
    "    input data to model.\n",
    "    \"\"\"\n",
    "    corpus = data.lower().split(\"\\n\") # list of strings\n",
    "    tokenizer.fit_on_texts(corpus)\n",
    "    total_words = len(tokenizer.word_index) + 1 # number of words\n",
    "    input_sequences = [] \n",
    "    for line in corpus :\n",
    "        token_list = tokenizer.texts_to_sequences([line])[0]\n",
    "        for i in range(1, len(token_list)) :\n",
    "            n_gram_sequence = token_list[:i+1]\n",
    "            input_sequences.append(n_gram_sequence) # \n",
    "    print(input_sequences)\n",
    "    max_len = max([len(x) for x in input_sequences])\n",
    "    input_sequences = np.array(pad_sequences(input_sequences, maxlen=max_len, padding='pre'))\n",
    "    predictors, label = input_sequences[:, :-1], input_sequences[:, -1]\n",
    "    label = ku.to_categorical(label, num_classes=total_words)\n",
    "    return predictors, label, max_len, total_words\n"
   ]
  },
  {
   "cell_type": "code",
   "execution_count": 17,
   "metadata": {},
   "outputs": [],
   "source": [
    "def create_model(predictors, label, max_sequence_len, total_words):\n",
    "    input_len = max_sequence_len - 1\n",
    "    \n",
    "    #Build a seq lstm keras model\n",
    "    model = Sequential()\n",
    "    model.add(Embedding(input_dim=total_words, output_dim=10, input_length=input_len))\n",
    "    model.add(LSTM(150))\n",
    "    model.add(Dropout(0.1))\n",
    "    model.add(Dense(total_words, activation='softmax'))\n",
    "    model.compile(loss='categorical_crossentropy', optimizer='adam')\n",
    "    earlystop = EarlyStopping(monitor='val_loss', min_delta=0, patience=5, verbose=0, mode='auto')\n",
    "    model.fit(predictors, label, epochs=100, verbose=1, callbacks=[earlystop])\n",
    "    print(model.summary())\n",
    "    return model \n",
    "    "
   ]
  },
  {
   "cell_type": "code",
   "execution_count": 28,
   "metadata": {},
   "outputs": [],
   "source": [
    "def generate_text(seed_text, next_words, max_sequence_len, model):\n",
    "    for j in range(next_words) :\n",
    "        token_list = tokenizer.texts_to_sequences([seed_text])[0]\n",
    "        token_list = pad_sequences([token_list], maxlen=max_sequence_len-1, padding='pre')\n",
    "        predicted = model.predict_classes(token_list, verbose=0)\n",
    "        output_word = \"\"\n",
    "        for word, index in tokenizer.word_index.items() :\n",
    "            if index == predicted :\n",
    "                output_word = word\n",
    "                break\n",
    "        seed_text += \" \" + output_word\n",
    "    return seed_text\n",
    "                "
   ]
  },
  {
   "cell_type": "code",
   "execution_count": 19,
   "metadata": {},
   "outputs": [
    {
     "name": "stdout",
     "output_type": "stream",
     "text": [
      "[[6, 13], [6, 13, 7], [6, 13, 7, 14], [6, 13, 7, 14, 1], [2, 15], [2, 15, 16], [2, 15, 16, 8], [2, 15, 16, 8, 3], [4, 17], [4, 17, 18], [4, 17, 18, 19], [4, 17, 18, 19, 20], [6, 21], [6, 21, 22], [6, 21, 22, 1], [2, 9], [2, 9, 8], [2, 9, 8, 3], [7, 23], [7, 23, 2], [7, 23, 2, 24], [7, 23, 2, 24, 4], [7, 23, 2, 24, 4, 25], [26, 27], [26, 27, 28], [26, 27, 28, 5], [26, 27, 28, 5, 29], [26, 27, 28, 5, 29, 30], [5, 31], [5, 31, 10], [5, 31, 10, 4], [5, 31, 10, 4, 32], [11, 5], [11, 5, 33], [11, 5, 33, 9], [11, 5, 33, 9, 34], [11, 5, 33, 9, 34, 3], [35, 36], [35, 36, 37], [35, 36, 37, 38], [35, 36, 37, 38, 12], [35, 36, 37, 38, 12, 39], [35, 36, 37, 38, 12, 39, 40], [35, 36, 37, 38, 12, 39, 40, 10], [11, 12], [11, 12, 41], [11, 12, 41, 42], [11, 12, 41, 42, 1]]\n",
      "Epoch 1/100\n",
      "48/48 [==============================] - 2s 48ms/step - loss: 3.7617\n",
      "Epoch 2/100\n",
      "48/48 [==============================] - 0s 788us/step - loss: 3.7580\n",
      "Epoch 3/100\n",
      "48/48 [==============================] - 0s 703us/step - loss: 3.7556\n",
      "Epoch 4/100\n",
      "48/48 [==============================] - 0s 576us/step - loss: 3.7525\n",
      "Epoch 5/100\n",
      "48/48 [==============================] - 0s 526us/step - loss: 3.7498\n",
      "Epoch 6/100\n",
      "48/48 [==============================] - 0s 442us/step - loss: 3.7453\n",
      "Epoch 7/100\n",
      "48/48 [==============================] - 0s 568us/step - loss: 3.7419\n",
      "Epoch 8/100\n",
      "32/48 [===================>..........] - ETA: 0s - loss: 3.7341"
     ]
    },
    {
     "name": "stderr",
     "output_type": "stream",
     "text": [
      "C:\\Users\\Shashank\\Anaconda3\\lib\\site-packages\\keras\\callbacks.py:535: RuntimeWarning: Early stopping conditioned on metric `val_loss` which is not available. Available metrics are: loss\n",
      "  (self.monitor, ','.join(list(logs.keys()))), RuntimeWarning\n"
     ]
    },
    {
     "name": "stdout",
     "output_type": "stream",
     "text": [
      "48/48 [==============================] - 0s 513us/step - loss: 3.7353\n",
      "Epoch 9/100\n",
      "48/48 [==============================] - 0s 484us/step - loss: 3.7311\n",
      "Epoch 10/100\n",
      "48/48 [==============================] - 0s 409us/step - loss: 3.7235\n",
      "Epoch 11/100\n",
      "48/48 [==============================] - 0s 570us/step - loss: 3.7105\n",
      "Epoch 12/100\n",
      "48/48 [==============================] - 0s 571us/step - loss: 3.7013\n",
      "Epoch 13/100\n",
      "48/48 [==============================] - 0s 539us/step - loss: 3.6812\n",
      "Epoch 14/100\n",
      "48/48 [==============================] - 0s 494us/step - loss: 3.6627\n",
      "Epoch 15/100\n",
      "48/48 [==============================] - 0s 494us/step - loss: 3.6571\n",
      "Epoch 16/100\n",
      "48/48 [==============================] - 0s 574us/step - loss: 3.6217\n",
      "Epoch 17/100\n",
      "48/48 [==============================] - 0s 548us/step - loss: 3.6039\n",
      "Epoch 18/100\n",
      "48/48 [==============================] - 0s 557us/step - loss: 3.5717\n",
      "Epoch 19/100\n",
      "48/48 [==============================] - 0s 512us/step - loss: 3.5948\n",
      "Epoch 20/100\n",
      "48/48 [==============================] - 0s 568us/step - loss: 3.6000\n",
      "Epoch 21/100\n",
      "48/48 [==============================] - 0s 560us/step - loss: 3.5953\n",
      "Epoch 22/100\n",
      "48/48 [==============================] - 0s 536us/step - loss: 3.5713\n",
      "Epoch 23/100\n",
      "48/48 [==============================] - 0s 598us/step - loss: 3.5708\n",
      "Epoch 24/100\n",
      "48/48 [==============================] - 0s 557us/step - loss: 3.5838\n",
      "Epoch 25/100\n",
      "48/48 [==============================] - 0s 425us/step - loss: 3.5630\n",
      "Epoch 26/100\n",
      "48/48 [==============================] - 0s 528us/step - loss: 3.5689\n",
      "Epoch 27/100\n",
      "48/48 [==============================] - 0s 526us/step - loss: 3.5539\n",
      "Epoch 28/100\n",
      "48/48 [==============================] - 0s 491us/step - loss: 3.5486\n",
      "Epoch 29/100\n",
      "48/48 [==============================] - 0s 680us/step - loss: 3.5373\n",
      "Epoch 30/100\n",
      "48/48 [==============================] - 0s 637us/step - loss: 3.5386\n",
      "Epoch 31/100\n",
      "48/48 [==============================] - 0s 553us/step - loss: 3.5348\n",
      "Epoch 32/100\n",
      "48/48 [==============================] - 0s 532us/step - loss: 3.5395\n",
      "Epoch 33/100\n",
      "48/48 [==============================] - 0s 481us/step - loss: 3.4935\n",
      "Epoch 34/100\n",
      "48/48 [==============================] - 0s 538us/step - loss: 3.5140\n",
      "Epoch 35/100\n",
      "48/48 [==============================] - 0s 439us/step - loss: 3.4897\n",
      "Epoch 36/100\n",
      "48/48 [==============================] - 0s 410us/step - loss: 3.4848\n",
      "Epoch 37/100\n",
      "48/48 [==============================] - 0s 446us/step - loss: 3.4956\n",
      "Epoch 38/100\n",
      "48/48 [==============================] - 0s 433us/step - loss: 3.4468\n",
      "Epoch 39/100\n",
      "48/48 [==============================] - 0s 548us/step - loss: 3.4588\n",
      "Epoch 40/100\n",
      "48/48 [==============================] - 0s 569us/step - loss: 3.4441\n",
      "Epoch 41/100\n",
      "48/48 [==============================] - 0s 511us/step - loss: 3.4259\n",
      "Epoch 42/100\n",
      "48/48 [==============================] - 0s 539us/step - loss: 3.4364\n",
      "Epoch 43/100\n",
      "48/48 [==============================] - 0s 515us/step - loss: 3.4033\n",
      "Epoch 44/100\n",
      "48/48 [==============================] - 0s 456us/step - loss: 3.3671\n",
      "Epoch 45/100\n",
      "48/48 [==============================] - 0s 463us/step - loss: 3.3581\n",
      "Epoch 46/100\n",
      "48/48 [==============================] - 0s 558us/step - loss: 3.3440\n",
      "Epoch 47/100\n",
      "48/48 [==============================] - 0s 500us/step - loss: 3.2887\n",
      "Epoch 48/100\n",
      "48/48 [==============================] - 0s 481us/step - loss: 3.2651\n",
      "Epoch 49/100\n",
      "48/48 [==============================] - 0s 492us/step - loss: 3.2401\n",
      "Epoch 50/100\n",
      "48/48 [==============================] - 0s 511us/step - loss: 3.2193\n",
      "Epoch 51/100\n",
      "48/48 [==============================] - 0s 468us/step - loss: 3.1407\n",
      "Epoch 52/100\n",
      "48/48 [==============================] - 0s 503us/step - loss: 3.1281\n",
      "Epoch 53/100\n",
      "48/48 [==============================] - 0s 641us/step - loss: 3.0528\n",
      "Epoch 54/100\n",
      "48/48 [==============================] - 0s 512us/step - loss: 3.0343\n",
      "Epoch 55/100\n",
      "48/48 [==============================] - 0s 488us/step - loss: 3.0235\n",
      "Epoch 56/100\n",
      "48/48 [==============================] - 0s 527us/step - loss: 3.0176\n",
      "Epoch 57/100\n",
      "48/48 [==============================] - 0s 497us/step - loss: 2.9419\n",
      "Epoch 58/100\n",
      "48/48 [==============================] - 0s 418us/step - loss: 2.9054\n",
      "Epoch 59/100\n",
      "48/48 [==============================] - 0s 515us/step - loss: 2.8542\n",
      "Epoch 60/100\n",
      "48/48 [==============================] - 0s 483us/step - loss: 2.8158\n",
      "Epoch 61/100\n",
      "48/48 [==============================] - 0s 488us/step - loss: 2.8137\n",
      "Epoch 62/100\n",
      "48/48 [==============================] - 0s 487us/step - loss: 2.7316\n",
      "Epoch 63/100\n",
      "48/48 [==============================] - 0s 398us/step - loss: 2.7245\n",
      "Epoch 64/100\n",
      "48/48 [==============================] - 0s 477us/step - loss: 2.7101\n",
      "Epoch 65/100\n",
      "48/48 [==============================] - 0s 414us/step - loss: 2.6428\n",
      "Epoch 66/100\n",
      "48/48 [==============================] - 0s 458us/step - loss: 2.6589\n",
      "Epoch 67/100\n",
      "48/48 [==============================] - 0s 535us/step - loss: 2.6243\n",
      "Epoch 68/100\n",
      "48/48 [==============================] - 0s 465us/step - loss: 2.6143\n",
      "Epoch 69/100\n",
      "48/48 [==============================] - 0s 401us/step - loss: 2.5420\n",
      "Epoch 70/100\n",
      "48/48 [==============================] - 0s 614us/step - loss: 2.5312\n",
      "Epoch 71/100\n",
      "48/48 [==============================] - 0s 540us/step - loss: 2.4876\n",
      "Epoch 72/100\n",
      "48/48 [==============================] - 0s 512us/step - loss: 2.3184\n",
      "Epoch 73/100\n",
      "48/48 [==============================] - 0s 422us/step - loss: 2.4882\n",
      "Epoch 74/100\n",
      "48/48 [==============================] - 0s 406us/step - loss: 2.3936\n",
      "Epoch 75/100\n",
      "48/48 [==============================] - 0s 487us/step - loss: 2.4306\n",
      "Epoch 76/100\n",
      "48/48 [==============================] - 0s 409us/step - loss: 2.3444\n",
      "Epoch 77/100\n",
      "48/48 [==============================] - 0s 475us/step - loss: 2.3647\n",
      "Epoch 78/100\n",
      "48/48 [==============================] - 0s 371us/step - loss: 2.3310\n",
      "Epoch 79/100\n",
      "48/48 [==============================] - 0s 443us/step - loss: 2.2509\n",
      "Epoch 80/100\n",
      "48/48 [==============================] - 0s 450us/step - loss: 2.2712\n",
      "Epoch 81/100\n",
      "48/48 [==============================] - 0s 427us/step - loss: 2.1684\n",
      "Epoch 82/100\n",
      "48/48 [==============================] - 0s 477us/step - loss: 2.1723\n",
      "Epoch 83/100\n",
      "48/48 [==============================] - 0s 431us/step - loss: 2.0985\n",
      "Epoch 84/100\n",
      "48/48 [==============================] - 0s 497us/step - loss: 2.1322\n",
      "Epoch 85/100\n",
      "48/48 [==============================] - 0s 533us/step - loss: 2.0616\n",
      "Epoch 86/100\n",
      "48/48 [==============================] - 0s 381us/step - loss: 1.9912\n",
      "Epoch 87/100\n",
      "48/48 [==============================] - 0s 547us/step - loss: 2.0018\n",
      "Epoch 88/100\n",
      "48/48 [==============================] - 0s 455us/step - loss: 1.9713\n",
      "Epoch 89/100\n",
      "48/48 [==============================] - 0s 404us/step - loss: 1.9011\n",
      "Epoch 90/100\n",
      "48/48 [==============================] - 0s 400us/step - loss: 1.8690\n",
      "Epoch 91/100\n",
      "48/48 [==============================] - 0s 394us/step - loss: 1.9065\n",
      "Epoch 92/100\n",
      "48/48 [==============================] - 0s 414us/step - loss: 1.8184\n",
      "Epoch 93/100\n",
      "48/48 [==============================] - 0s 443us/step - loss: 1.8162\n",
      "Epoch 94/100\n",
      "48/48 [==============================] - 0s 455us/step - loss: 1.8360\n",
      "Epoch 95/100\n",
      "48/48 [==============================] - 0s 417us/step - loss: 1.8036\n",
      "Epoch 96/100\n",
      "48/48 [==============================] - 0s 516us/step - loss: 1.8021\n",
      "Epoch 97/100\n",
      "48/48 [==============================] - 0s 562us/step - loss: 1.8013\n",
      "Epoch 98/100\n",
      "48/48 [==============================] - 0s 455us/step - loss: 1.7542\n",
      "Epoch 99/100\n",
      "48/48 [==============================] - 0s 398us/step - loss: 1.7756\n",
      "Epoch 100/100\n",
      "48/48 [==============================] - 0s 338us/step - loss: 1.6927\n",
      "_________________________________________________________________\n",
      "Layer (type)                 Output Shape              Param #   \n",
      "=================================================================\n",
      "embedding_2 (Embedding)      (None, 7, 10)             430       \n",
      "_________________________________________________________________\n",
      "lstm_2 (LSTM)                (None, 150)               96600     \n",
      "_________________________________________________________________\n",
      "dropout_1 (Dropout)          (None, 150)               0         \n",
      "_________________________________________________________________\n",
      "dense_1 (Dense)              (None, 43)                6493      \n",
      "=================================================================\n",
      "Total params: 103,523\n",
      "Trainable params: 103,523\n",
      "Non-trainable params: 0\n",
      "_________________________________________________________________\n",
      "None\n"
     ]
    }
   ],
   "source": [
    "predictors, label, max_len, total_words = dataset_preparation(data)\n",
    "model = create_model(predictors, label, max_len, total_words)\n"
   ]
  },
  {
   "cell_type": "code",
   "execution_count": 53,
   "metadata": {},
   "outputs": [
    {
     "data": {
      "text/plain": [
       "'The cat and her kittens\\nThey put on their mittens,\\nTo eat a Christmas pie.\\nThe poor little kittens\\nThey lost their mittens,\\nAnd then they began to cry.\\nO mother dear, we sadly fear\\nWe cannot go to-day,\\nFor we have lost our mittens.\"\\n\"If it be so, ye shall not go,\\nFor ye are naughty kittens.'"
      ]
     },
     "execution_count": 53,
     "metadata": {},
     "output_type": "execute_result"
    }
   ],
   "source": [
    "data"
   ]
  },
  {
   "cell_type": "code",
   "execution_count": 30,
   "metadata": {},
   "outputs": [
    {
     "name": "stdout",
     "output_type": "stream",
     "text": [
      "we sadly we to day fear\n"
     ]
    }
   ],
   "source": [
    "print(generate_text(\"we sadly\", 4, max_len, model))\n"
   ]
  },
  {
   "cell_type": "code",
   "execution_count": null,
   "metadata": {},
   "outputs": [],
   "source": []
  }
 ],
 "metadata": {
  "kernelspec": {
   "display_name": "Python 3",
   "language": "python",
   "name": "python3"
  },
  "language_info": {
   "codemirror_mode": {
    "name": "ipython",
    "version": 3
   },
   "file_extension": ".py",
   "mimetype": "text/x-python",
   "name": "python",
   "nbconvert_exporter": "python",
   "pygments_lexer": "ipython3",
   "version": "3.6.5"
  }
 },
 "nbformat": 4,
 "nbformat_minor": 2
}
